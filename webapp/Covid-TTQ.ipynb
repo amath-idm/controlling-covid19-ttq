{
 "cells": [
  {
   "cell_type": "code",
   "execution_count": null,
   "id": "tracked-abuse",
   "metadata": {
    "tags": []
   },
   "outputs": [],
   "source": [
    "# Custom CSS\n",
    "from IPython.core.display import HTML\n",
    "css = '''\n",
    "<style>\n",
    "div.apphead {\n",
    "    color: #909;\n",
    "    font-size: large;\n",
    "}\n",
    "\n",
    "div.about {    \n",
    "    background-color: #fee;\n",
    "    padding: 1em;\n",
    "    font-size: small;\n",
    "}\n",
    "</style>\n",
    "'''\n",
    "HTML(css)"
   ]
  },
  {
   "cell_type": "markdown",
   "id": "appreciated-outline",
   "metadata": {
    "tags": []
   },
   "source": [
    "<div class=apphead>\n",
    "    <h1>Controlling COVID-19 via test-trace-quarantine</h1>\n",
    "    <hr>\n",
    "</div>\n",
    "\n",
    "<h2>Introduction</h2>\n",
    "\n",
    "This webapp plots the figures from the manuscript \"Controlling COVID-19 via testing, tracing, and quarantine\". The citation for the manuscript is:\n",
    "\n",
    "> **Controlling COVID-19 via test-trace-quarantine**. Kerr CC, Mistry D, Stuart RM, Rosenfeld R, Hart G, Núñez RC, Selvaraj P, Cohen JA, Abeysuriya RG, George L, Hagedorn B, Jastrzębski M, Fagalde M, Duchin J, Famulare M, Klein DJ (under review; posted 2020-07-16). *medRxiv* 2020.07.15.20154765; doi: https://doi.org/10.1101/2020.07.15.20154765.\n",
    "\n",
    "Use the controls at left to plot the figures."
   ]
  },
  {
   "cell_type": "markdown",
   "id": "higher-shepherd",
   "metadata": {
    "tags": []
   },
   "source": [
    "## Results"
   ]
  },
  {
   "cell_type": "code",
   "execution_count": 6,
   "id": "electric-ministry",
   "metadata": {},
   "outputs": [],
   "source": [
    "#Imports\n",
    "\n",
    "%matplotlib widget\n",
    "import os\n",
    "import importlib\n",
    "import numpy as np\n",
    "import sciris as sc\n",
    "import pylab as pl\n",
    "import ipywidgets as widgets\n",
    "\n",
    "pl.rc('figure', dpi=40)"
   ]
  },
  {
   "cell_type": "code",
   "execution_count": 7,
   "id": "controversial-measurement",
   "metadata": {},
   "outputs": [],
   "source": [
    "# Import the figures -- since they are written a scripts in different modules, we import the scripts and then capture the output figures\n",
    "srcs = [\n",
    "        '../fig1_calibration',\n",
    "        '../fig2_characteristics',\n",
    "        '../fig3_theoretical',\n",
    "        '../fig4_suppression',\n",
    "        '../fig5_projections',\n",
    "        ]\n",
    "\n",
    "f = {}\n",
    "\n",
    "def show_figure(fig):\n",
    "    ''' Reanimate an already plotted figure '''\n",
    "    dummy = pl.figure()\n",
    "    new_manager = dummy.canvas.manager\n",
    "    new_manager.canvas.figure = fig\n",
    "    fig.set_canvas(new_manager.canvas)\n",
    "\n",
    "def plot_fig(ind):\n",
    "    print(f'Working on Fig. {ind+1}...')\n",
    "    if ind not in f:\n",
    "        os.chdir(srcs[ind])\n",
    "        if ind == 0:\n",
    "            import fig1_plot\n",
    "        elif ind == 1:\n",
    "            import fig2_plot\n",
    "        elif ind == 2:\n",
    "            import fig3_plot\n",
    "        elif ind == 3:\n",
    "            import create_sim as cs # We have to both import it and reload it for it to work\n",
    "            importlib.reload(cs)\n",
    "            import fig4_plot\n",
    "        elif ind == 4:\n",
    "            import fig5_plot\n",
    "        f[ind] = pl.gcf();\n",
    "    else:\n",
    "        show_figure(f[ind])\n",
    "    return"
   ]
  },
  {
   "cell_type": "code",
   "execution_count": 8,
   "id": "rational-increase",
   "metadata": {},
   "outputs": [
    {
     "data": {
      "application/vnd.jupyter.widget-view+json": {
       "model_id": "265e0a51828547549104108753487837",
       "version_major": 2,
       "version_minor": 0
      },
      "text/plain": [
       "HBox(children=(VBox(children=(RadioButtons(description='Figure:', options=('Fig. 1: Calibration', 'Fig. 2: Cha…"
      ]
     },
     "metadata": {},
     "output_type": "display_data"
    }
   ],
   "source": [
    "# Make the app\n",
    "\n",
    "def make_box_layout():\n",
    "     return widgets.Layout(\n",
    "        border='solid 1px #ddd',\n",
    "        margin='0px 10px 10px 0px',\n",
    "        padding='5px 5px 5px 5px'\n",
    "     )\n",
    "    \n",
    "app = widgets.HBox()\n",
    "app.out = widgets.Output()\n",
    "\n",
    "app.captions = None\n",
    "app.labels = [ 'Fig. 1: Calibration', \n",
    "               'Fig. 2: Characteristics', \n",
    "               'Fig. 3: Theoretical', \n",
    "               'Fig. 4: Suppression', \n",
    "               'Fig. 5: Projections',\n",
    "          ]\n",
    "app.ind = 0 # Select first element by default\n",
    "app.label = app.labels[app.ind]\n",
    "\n",
    "# Define widgets\n",
    "radio = widgets.RadioButtons(\n",
    "    options=app.labels,\n",
    "    value=app.label,\n",
    "    description='Figure:',\n",
    "    disabled=False,\n",
    ")\n",
    "controls = widgets.VBox([radio])\n",
    "controls.layout = make_box_layout()\n",
    "out_box = widgets.Box([app.out])\n",
    "app.out.layout = make_box_layout()\n",
    "app.children = [controls, app.out]\n",
    "\n",
    "@app.out.capture()\n",
    "def plot():\n",
    "    plot_fig(app.ind)\n",
    "    return\n",
    "\n",
    "def update(key):\n",
    "    \"\"\" Change plot selection \"\"\"\n",
    "    print('slkfdjdlkfjdlkj')\n",
    "    print(key.new)\n",
    "    print(dir(key))\n",
    "    if isinstance(key.new, int): # For some reason it sometime returns an empty dict\n",
    "        app.ind = key.new\n",
    "    elif isinstance(key.new, str):\n",
    "        app.ind = app.labels.index(key.new)\n",
    "    app.out.clear_output(wait=True)\n",
    "    plot()\n",
    "    return\n",
    "\n",
    "# Handle updates\n",
    "radio.observe(update)\n",
    "\n",
    "# Render app\n",
    "plot()\n",
    "app\n"
   ]
  },
  {
   "cell_type": "code",
   "execution_count": null,
   "id": "given-cassette",
   "metadata": {},
   "outputs": [],
   "source": [
    "import matplotlib.pyplot as plt\n",
    "import numpy as np\n",
    "import ipywidgets as widgets\n",
    "from IPython.display import display\n",
    "from IPython.core.display import HTML\n",
    "%matplotlib widget\n",
    "\n",
    "button = widgets.Button(description='Refresh')\n",
    "out=widgets.Output()\n",
    "display(widgets.VBox([button,out]))\n",
    "\n",
    "def fig1():\n",
    "    print('Working on Fig. 1...')\n",
    "    os.chdir(srcs[0])\n",
    "    import fig1_plot\n",
    "    fig1 = pl.gcf();\n",
    "#     fig1 = pl.figure()\n",
    "#     pl.plot([1,4,3,5])\n",
    "    return fig1\n",
    "\n",
    "def fig2():\n",
    "    print('Working on Fig. 2...')\n",
    "    fig2 = pl.figure()\n",
    "    pl.plot([8,4,3,5])\n",
    "    return fig2\n",
    "\n",
    "@out.capture()\n",
    "def get_fig():\n",
    "    if np.random.random()<0.5:\n",
    "        fig = fig1()\n",
    "    else:\n",
    "        fig = fig2()\n",
    "#     fig, ax = plt.subplots(2,1);\n",
    "#     ax[0].plot(np.arange(10), np.random.random(10))\n",
    "#     ax[1].plot(np.arange(10), np.random.random(10),color='red')\n",
    "    return fig\n",
    "    \n",
    "get_fig()\n",
    "\n",
    "def on_button_clicked(b):\n",
    "    out.clear_output(wait=True)\n",
    "    get_fig()\n",
    "    \n",
    "button.on_click(on_button_clicked)"
   ]
  },
  {
   "cell_type": "markdown",
   "id": "helpful-battle",
   "metadata": {},
   "source": [
    "<div><br><hr><br></div>"
   ]
  },
  {
   "cell_type": "markdown",
   "id": "homeless-stand",
   "metadata": {
    "tags": []
   },
   "source": [
    "<div class=about>\n",
    "    <h3><i>About</i></h3>\n",
    "\n",
    "More information about Covasim is available via the <a href=\"https://docs.covasim.org\">documentation</a>.\n",
    "\n",
    "This site is run via <a href=\"https://jupyter.org\">Jupyter</a> and <a href=\"https://voila.readthedocs.io\">Voilà</a>. Open source code is available from <a href=\"https://github.com/amath-idm/controlling-covid19-ttq\">GitHub</a>.\n",
    "    \n",
    "© 1999-2021 Bill & Melinda Gates Foundation. All rights reserved. <a href=\"https://github.com/amath-idm/controlling-covid19-ttq/blob/main/LICENSE\">License</a> | <a href=\"https://www.gatesfoundation.org/Terms-of-Use\">Terms of Use</a> | <a href=\"https://www.gatesfoundation.org/Privacy-and-Cookies-Notice\">Privacy & Cookies Notice</a>\n",
    "</div>"
   ]
  },
  {
   "cell_type": "code",
   "execution_count": null,
   "id": "accredited-bernard",
   "metadata": {},
   "outputs": [],
   "source": []
  }
 ],
 "metadata": {
  "kernelspec": {
   "display_name": "Python 3",
   "language": "python",
   "name": "python3"
  },
  "language_info": {
   "codemirror_mode": {
    "name": "ipython",
    "version": 3
   },
   "file_extension": ".py",
   "mimetype": "text/x-python",
   "name": "python",
   "nbconvert_exporter": "python",
   "pygments_lexer": "ipython3",
   "version": "3.8.8"
  }
 },
 "nbformat": 4,
 "nbformat_minor": 5
}
