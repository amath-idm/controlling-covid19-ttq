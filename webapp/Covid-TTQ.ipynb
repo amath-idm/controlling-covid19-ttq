{
 "cells": [
  {
   "cell_type": "code",
   "execution_count": 4,
   "id": "assisted-letter",
   "metadata": {
    "tags": []
   },
   "outputs": [
    {
     "data": {
      "text/html": [
       "\n",
       "<style>\n",
       "div.apphead {\n",
       "    color: #909;\n",
       "    font-size: large;\n",
       "}\n",
       "\n",
       "div.about {    \n",
       "    background-color: #fee;\n",
       "    padding: 1em;\n",
       "    font-size: small;\n",
       "}\n",
       "</style>\n"
      ],
      "text/plain": [
       "<IPython.core.display.HTML object>"
      ]
     },
     "execution_count": 4,
     "metadata": {},
     "output_type": "execute_result"
    }
   ],
   "source": [
    "# Custom CSS\n",
    "from IPython.core.display import HTML\n",
    "css = '''\n",
    "<style>\n",
    "div.apphead {\n",
    "    color: #909;\n",
    "    font-size: large;\n",
    "}\n",
    "\n",
    "div.about {    \n",
    "    background-color: #fee;\n",
    "    padding: 1em;\n",
    "    font-size: small;\n",
    "}\n",
    "</style>\n",
    "'''\n",
    "HTML(css)"
   ]
  },
  {
   "cell_type": "markdown",
   "id": "several-merchandise",
   "metadata": {
    "tags": []
   },
   "source": [
    "<div class=apphead>\n",
    "    <h1>Controlling COVID-19 via test-trace-quarantine</h1>\n",
    "    <hr>\n",
    "</div>\n",
    "\n",
    "<h2>Introduction</h2>\n",
    "\n",
    "This webapp plots the figures from the manuscript \"Controlling COVID-19 via testing, tracing, and quarantine\". The citation for the manuscript is:\n",
    "\n",
    "> **Controlling COVID-19 via test-trace-quarantine**. Kerr CC, Mistry D, Stuart RM, Rosenfeld R, Hart G, Núñez RC, Selvaraj P, Cohen JA, Abeysuriya RG, George L, Hagedorn B, Jastrzębski M, Fagalde M, Duchin J, Famulare M, Klein DJ (under review; posted 2020-07-16). *medRxiv* 2020.07.15.20154765; doi: https://doi.org/10.1101/2020.07.15.20154765.\n",
    "\n",
    "Use the controls at left to plot the figures."
   ]
  },
  {
   "cell_type": "markdown",
   "id": "portuguese-living",
   "metadata": {
    "tags": []
   },
   "source": [
    "## Results"
   ]
  },
  {
   "cell_type": "code",
   "execution_count": 5,
   "id": "dietary-lawyer",
   "metadata": {},
   "outputs": [],
   "source": [
    "%matplotlib widget\n",
    "import os\n",
    "import importlib\n",
    "import numpy as np\n",
    "import sciris as sc\n",
    "import pylab as pl\n",
    "import ipywidgets as widgets\n",
    "\n",
    "pl.rc('figure', dpi=40)"
   ]
  },
  {
   "cell_type": "code",
   "execution_count": 6,
   "id": "adapted-raise",
   "metadata": {},
   "outputs": [],
   "source": [
    "# Import the figures -- since they are written a scripts in different modules, we import the scripts and then capture the output figures\n",
    "srcs = [\n",
    "        '../fig1_calibration',\n",
    "        '../fig2_characteristics',\n",
    "        '../fig3_theoretical',\n",
    "        '../fig4_suppression',\n",
    "        '../fig5_projections',\n",
    "        ]\n",
    "\n",
    "f = sc.objdict()"
   ]
  },
  {
   "cell_type": "code",
   "execution_count": 7,
   "id": "analyzed-southwest",
   "metadata": {},
   "outputs": [],
   "source": [
    "def fig1():\n",
    "    print('Working on Fig. 1...')\n",
    "    os.chdir(srcs[0])\n",
    "    import fig1_plot\n",
    "    fig1 = pl.gcf();\n",
    "    return fig1"
   ]
  },
  {
   "cell_type": "code",
   "execution_count": null,
   "id": "acquired-armor",
   "metadata": {},
   "outputs": [],
   "source": [
    "print('Working on Fig. 2...')\n",
    "os.chdir(srcs[1])\n",
    "import fig2_plot\n",
    "f.fig2 = pl.gcf()"
   ]
  },
  {
   "cell_type": "code",
   "execution_count": null,
   "id": "formal-bread",
   "metadata": {},
   "outputs": [],
   "source": [
    "print('Working on Fig. 3...')\n",
    "os.chdir(srcs[2])\n",
    "import fig3_plot\n",
    "f.fig3 = pl.gcf()"
   ]
  },
  {
   "cell_type": "code",
   "execution_count": null,
   "id": "temporal-water",
   "metadata": {},
   "outputs": [],
   "source": [
    "print('Working on Fig. 4...')\n",
    "os.chdir(srcs[3])\n",
    "import create_sim as cs; importlib.reload(cs) # We have to both import it and reload it for it to work\n",
    "import fig4_plot\n",
    "f.fig4 = pl.gcf()"
   ]
  },
  {
   "cell_type": "code",
   "execution_count": null,
   "id": "external-basket",
   "metadata": {},
   "outputs": [],
   "source": [
    "print('Working on Fig. 5...')\n",
    "os.chdir(srcs[4])\n",
    "import fig5_plot\n",
    "f.fig5 = pl.gcf()"
   ]
  },
  {
   "cell_type": "code",
   "execution_count": 8,
   "id": "painful-kelly",
   "metadata": {},
   "outputs": [
    {
     "name": "stdout",
     "output_type": "stream",
     "text": [
      "Working on Fig. 1...\n",
      "Covasim 2.0.4 (2021-03-19) — © 2021 by IDM\n"
     ]
    },
    {
     "data": {
      "application/vnd.jupyter.widget-view+json": {
       "model_id": "2da2a9c1d2e1479990baa8a95c07f563",
       "version_major": 2,
       "version_minor": 0
      },
      "text/plain": [
       "Canvas(toolbar=Toolbar(toolitems=[('Home', 'Reset original view', 'home', 'home'), ('Back', 'Back to previous …"
      ]
     },
     "metadata": {},
     "output_type": "display_data"
    },
    {
     "name": "stdout",
     "output_type": "stream",
     "text": [
      "Samples remaining:  15092\n",
      "Samples remaining:  8821\n",
      "beta          : SG=  4.41 (  4.22,   4.59) NSG=  4.34 (  4.20,   4.50)\n",
      "bc_wc1        : SG= 12.27 (  2.86,  23.53) NSG= 71.74 ( 65.50,  79.85)\n",
      "bc_lf         : SG= 86.11 ( 70.64,  94.23) NSG= 87.08 ( 70.97,  94.30)\n",
      "tn            : SG= 20.85 ( 15.15,  27.67) NSG= 20.23 ( 14.76,  27.69)\n",
      "Stats for paper:\n",
      "Total infections: 98047.0 (79542.8, 115311.8)\n",
      "Total diagnoses: 8548.0\n",
      "Diagnosis rate: 8.7 (10.7, 7.4)\n",
      "R_e: 2.295 (2.033, 2.556)\n",
      "Peak active: 15792.9\n",
      "Done.\n"
     ]
    },
    {
     "data": {
      "application/vnd.jupyter.widget-view+json": {
       "model_id": "0ad018671c774dbaa40545fe59c3d707",
       "version_major": 2,
       "version_minor": 0
      },
      "text/plain": [
       "Figures(children=(VBox(children=(RadioButtons(description='Figure:', options=('Fig. 1: Calibration', 'Fig. 2: …"
      ]
     },
     "metadata": {},
     "output_type": "display_data"
    }
   ],
   "source": [
    "def make_box_layout():\n",
    "     return widgets.Layout(\n",
    "        border='solid 1px #ddd',\n",
    "        margin='0px 10px 10px 0px',\n",
    "        padding='5px 5px 5px 5px'\n",
    "     )\n",
    " \n",
    "class Figures(widgets.HBox):\n",
    "     \n",
    "    def __init__(self):\n",
    "        super().__init__()\n",
    "        output = widgets.Output()\n",
    "\n",
    "        self.captions = None\n",
    "        self.figdict = f\n",
    "        self.fig = None\n",
    "        self.map = sc.odict({'Fig. 1: Calibration': 'fig1', \n",
    "                             'Fig. 2: Characteristics': 'fig2', \n",
    "                             'Fig. 3: Theoretical': 'fig3', \n",
    "                             'Fig. 4: Suppression': 'fig4', \n",
    "                             'Fig. 5: Projections': 'fig5'\n",
    "                    })\n",
    "        self.labels = self.map.keys()\n",
    "        self.key = self.map.keys()[0]\n",
    " \n",
    "        with output:\n",
    "            self.fig, _ = pl.subplots(num='Placeholder', constrained_layout=True, figsize=(15, 8))\n",
    "        self.plot()\n",
    "        self.fig.canvas.toolbar_position = 'right'\n",
    " \n",
    "        # define widgets\n",
    "        radio = widgets.RadioButtons(\n",
    "            options=self.labels,\n",
    "            value=self.key,\n",
    "            description='Figure:',\n",
    "            disabled=False,\n",
    "        )\n",
    "\n",
    "        controls = widgets.VBox([\n",
    "            radio, \n",
    "        ])\n",
    "        controls.layout = make_box_layout()\n",
    "         \n",
    "        out_box = widgets.Box([output])\n",
    "        output.layout = make_box_layout()\n",
    " \n",
    "        # observe stuff\n",
    "        radio.observe(self.update, 'value')\n",
    " \n",
    "        # add to children\n",
    "        self.children = [controls, output]\n",
    "        \n",
    "        \n",
    "    def plot(self):\n",
    "#         if self.fig:\n",
    "#             self.ax.cla()\n",
    "        figkey = self.map[self.key]\n",
    "        if figkey == 'fig1':\n",
    "            self.fig = fig1()# self.figdict[figkey]\n",
    "        return\n",
    "     \n",
    "    def update(self, key):\n",
    "        \"\"\" Update the smoothing \"\"\"\n",
    "        self.key = change.new\n",
    "        self.plot()\n",
    "        return\n",
    "         \n",
    "Figures()"
   ]
  },
  {
   "cell_type": "markdown",
   "id": "superior-seller",
   "metadata": {},
   "source": [
    "<div><br><hr><br></div>"
   ]
  },
  {
   "cell_type": "markdown",
   "id": "removed-portugal",
   "metadata": {
    "tags": []
   },
   "source": [
    "<div class=about>\n",
    "    <h3><i>About</i></h3>\n",
    "\n",
    "More information about Covasim is available via the <a href=\"https://docs.covasim.org\">documentation</a>.\n",
    "\n",
    "This site is run via <a href=\"https://jupyter.org\">Jupyter</a> and <a href=\"https://voila.readthedocs.io\">Voilà</a>. Open source code is available from <a href=\"https://github.com/amath-idm/controlling-covid19-ttq\">GitHub</a>.\n",
    "    \n",
    "© 1999-2021 Bill & Melinda Gates Foundation. All rights reserved. <a href=\"https://github.com/amath-idm/controlling-covid19-ttq/blob/main/LICENSE\">License</a> | <a href=\"https://www.gatesfoundation.org/Terms-of-Use\">Terms of Use</a> | <a href=\"https://www.gatesfoundation.org/Privacy-and-Cookies-Notice\">Privacy & Cookies Notice</a>\n",
    "</div>"
   ]
  },
  {
   "cell_type": "code",
   "execution_count": null,
   "id": "consecutive-mayor",
   "metadata": {},
   "outputs": [],
   "source": []
  }
 ],
 "metadata": {
  "kernelspec": {
   "display_name": "Python 3",
   "language": "python",
   "name": "python3"
  },
  "language_info": {
   "codemirror_mode": {
    "name": "ipython",
    "version": 3
   },
   "file_extension": ".py",
   "mimetype": "text/x-python",
   "name": "python",
   "nbconvert_exporter": "python",
   "pygments_lexer": "ipython3",
   "version": "3.8.8"
  }
 },
 "nbformat": 4,
 "nbformat_minor": 5
}
