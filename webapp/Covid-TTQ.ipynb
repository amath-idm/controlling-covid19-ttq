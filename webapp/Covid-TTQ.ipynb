{
 "cells": [
  {
   "cell_type": "code",
   "execution_count": 1,
   "id": "hollywood-kelly",
   "metadata": {
    "tags": []
   },
   "outputs": [
    {
     "data": {
      "text/html": [
       "\n",
       "<style>\n",
       "div.apphead {\n",
       "    color: #909;\n",
       "    font-size: large;\n",
       "}\n",
       "\n",
       "div.cite {\n",
       "    max-width: 50%;\n",
       "    padding-left: 1em;\n",
       "    padding-bottom: 1em;\n",
       "    color: #777;\n",
       "}\n",
       "\n",
       "div.about {    \n",
       "    background-color: #fee;\n",
       "    padding: 1em;\n",
       "    font-size: small;\n",
       "}\n",
       "</style>\n"
      ],
      "text/plain": [
       "<IPython.core.display.HTML object>"
      ]
     },
     "execution_count": 1,
     "metadata": {},
     "output_type": "execute_result"
    }
   ],
   "source": [
    "# Custom CSS\n",
    "from IPython.core.display import HTML\n",
    "css = '''\n",
    "<style>\n",
    "div.apphead {\n",
    "    color: #909;\n",
    "    font-size: large;\n",
    "}\n",
    "\n",
    "div.cite {\n",
    "    max-width: 50%;\n",
    "    padding-left: 1em;\n",
    "    padding-bottom: 1em;\n",
    "    color: #777;\n",
    "}\n",
    "\n",
    "div.about {    \n",
    "    background-color: #fee;\n",
    "    padding: 1em;\n",
    "    font-size: small;\n",
    "}\n",
    "</style>\n",
    "'''\n",
    "HTML(css)"
   ]
  },
  {
   "cell_type": "markdown",
   "id": "phantom-equipment",
   "metadata": {
    "tags": []
   },
   "source": [
    "<a href=\"http://idmod.org\"><img src=\"idm-logo.png\"/></a>\n",
    "<div class=apphead>\n",
    "    <h1>Controlling COVID-19 via test-trace-quarantine</h1>\n",
    "    <hr>\n",
    "</div>\n",
    "\n",
    "<h2>Introduction</h2>\n",
    "\n",
    "This simple webapp runs the code that creating the figures from the manuscript \"Controlling COVID-19 via test-trace-quarantine\". The citation for the manuscript is:\n",
    "<div class=cite>\n",
    "    <b>Controlling COVID-19 via test-trace-quarantine</b>. Kerr CC, Mistry D, Stuart RM, Rosenfeld R, Hart G, Núñez RC, Selvaraj P, Cohen JA, Abeysuriya RG, George L, Hagedorn B, Jastrzębski M, Fagalde M, Duchin J, Famulare M, Klein DJ (under review; posted 2020-07-16). <i>medRxiv</i> 2020.07.15.20154765; doi: <a href=\"https://doi.org/10.1101/2020.07.15.20154765\">https://doi.org/10.1101/2020.07.15.20154765</a>.\n",
    "</div>\n",
    "\n",
    "Use the controls on the left to plot the figures. Note that due to the complexity of the figures, they will take about 10 seconds to appear initially."
   ]
  },
  {
   "cell_type": "markdown",
   "id": "likely-disabled",
   "metadata": {
    "tags": []
   },
   "source": [
    "## Results"
   ]
  },
  {
   "cell_type": "code",
   "execution_count": 2,
   "id": "temporal-copyright",
   "metadata": {},
   "outputs": [],
   "source": [
    "#Imports\n",
    "\n",
    "%matplotlib widget\n",
    "import os\n",
    "import importlib\n",
    "import numpy as np\n",
    "import sciris as sc\n",
    "import pylab as pl\n",
    "import ipywidgets as widgets\n",
    "\n",
    "pl.rc('figure', dpi=40)"
   ]
  },
  {
   "cell_type": "code",
   "execution_count": 3,
   "id": "ordered-compression",
   "metadata": {},
   "outputs": [],
   "source": [
    "# Import the figures -- since they are written as scripts in different modules, we import the scripts and then capture the output figures\n",
    "\n",
    "folders = [ '.',\n",
    "            '../fig1_calibration',\n",
    "            '../fig2_characteristics',\n",
    "            '../fig3_theoretical',\n",
    "            '../fig4_suppression',\n",
    "            '../fig5_projections',\n",
    "]\n",
    "figs = {}\n",
    "\n",
    "def show_figure(ind):\n",
    "    ''' Reanimate an already plotted figure '''\n",
    "    fig = figs[ind]\n",
    "    dummy = pl.figure(num=f'Fig. {ind}')\n",
    "    new_manager = dummy.canvas.manager\n",
    "    new_manager.canvas.figure = fig\n",
    "    fig.set_canvas(new_manager.canvas)\n",
    "    return\n",
    "\n",
    "def plot_fig(ind):\n",
    "    ''' Import the module that plots the figure if not already plotted; else load it from a dict '''\n",
    "    is_fig = bool(ind) # Check if we're plotting a figure\n",
    "    \n",
    "    if ind not in figs:\n",
    "        \n",
    "        # Print notices\n",
    "        if is_fig:\n",
    "            print(f'Working on Fig. {ind}...')\n",
    "            os.chdir(folders[ind])\n",
    "        else:\n",
    "            print('Please select one of the figures from the left')\n",
    "        \n",
    "        # Select what to import\n",
    "        if ind == 1:\n",
    "            import fig1_plot\n",
    "        elif ind == 2:\n",
    "            import fig2_plot\n",
    "        elif ind == 3:\n",
    "            import fig3_plot\n",
    "        elif ind == 4:\n",
    "            import create_sim as cs # We have to both import it and reload it for it to work\n",
    "            importlib.reload(cs)\n",
    "            import fig4_plot\n",
    "        elif ind == 5:\n",
    "            import fig5_plot\n",
    "        \n",
    "        # Store and close figure\n",
    "        if is_fig:\n",
    "            figs[ind] = pl.gcf();\n",
    "            pl.close(figs[ind])\n",
    "    \n",
    "    # Show figure\n",
    "    if is_fig:\n",
    "        show_figure(ind)\n",
    "        \n",
    "    return\n",
    "\n",
    "# Define the caption for the figures\n",
    "captions = {\n",
    "    0: '',\n",
    "    1: '<b>Fig. 1: Calibration of the model to data from Seattle-King County, Washington, from 27 January to 9 June 2020. A–B:</b> The cumulative number of diagnosed cases and deaths, over time and by age. <b>C:</b> Estimated numbers of cumulative and active infections. Dashed lines show policy interventions; data are from the Seattle Coronavirus Assessment Network. <b>D:</b> Effective reproduction number, showing a drop consistent with policy interventions. <b>E:</b> Calibration of model parameters with SafeGraph mobility data (M, blue) and with no mobility data (N, red); differences (Δ, green) are only significant for work/community transmission direction. <b>F:</b> SafeGraph mobility data for workplaces and the community and for schools. LTCF, long-term care facility; OR, odds ratio.',\n",
    "    2: '<b>Fig. 2: Modeled transmission dynamics. A:</b> Infections over time by contact layer. <b>B:</b> Overdispersion of infections, with roughly equal numbers of infections attributable to individuals who transmit to 1–2 others, 3–5 others, or more than 5 others. <b>C:</b> Due to overdispersion, 9% of primary infections are responsible for 50% of secondary infections, while 59% of all primary infections do not cause any secondary infections. <b>D:</b> Infections as a function of symptom onset, showing that slightly over half of infections are transmitted by symptomatic individuals.',\n",
    "    3: '<b>Fig. 3: Epidemic dynamics differ depending on the intervention.  A–C:</b> Transmission trees for a cluster of 100 people under three scenarios: (<b>A</b>) no interventions, (<b>B</b>) testing and isolation only (starting on day 20), and (<b>C</b>) test-trace-quarantine. <b>D–F:</b> Comparison of interventions for different levels of transmissibility. For medium baseline transmission (<b>D</b>), moderate distancing, high testing, or high tracing each result in $R_e ≈ 1$. For low transmission (<b>E</b>), the same distancing and testing interventions both result in $R_e < 1$, while the same tracing intervention maintains  $R_e ≈ 1$. For high transmission (<b>F</b>), the same distancing and testing interventions both result in $R_e > 1$, while the same tracing intervention continues to maintain  $R_e ≈ 1$.',\n",
    "    4: '<b>Fig. 4: Impact of testing, tracing, and quarantine. A:</b> Relative importance of different aspects of the TTQ strategy for a scenario of high mobility (full return to baseline workplace and community movement patterns), high testing, and high tracing in Seattle (dashed green lines). Each dot shows a simulation, with other parameters held constant. Isolation/quarantine effectiveness has the greatest impact, with 2.2 infections averted for each person fully isolated, although all parameters have a significant impact on epidemic outcomes. <b>B:</b> Countering the effects of increased mobility via testing, tracing, and quarantine. Current interventions (black diamonds) were estimated to keep $R_e < 1$ for 60% of baseline mobility level (left). Subsequently, increased transmission rates exceeded intervention scale-up, leading to $R_e > 1$ temporarily (center). For a return to full mobility (right), high levels of both testing and tracing are required to maintain epidemic control (green diamond, corresponding to the dashed lines in panel A). Dots show individual simulations.',\n",
    "    5: '<b>Fig. 5: Comparison between observed epidemic trends and projected scenarios from June 1 to August 31. A:</b> Numbers of tests conducted per day, with modeled values for the status quo (using the data as an input) and a counterfactual scenario with high testing and high tracing. Lines show medians; shaded regions show 80% confidence intervals. <b>B:</b> Number of contacts traced per day. <b>C:</b> Estimated numbers of new infections, with a significant rise in infections observed shortly after the stay-at-home order was lifted. <b>D:</b> Number of diagnoses per day, showing consistency between the model and the data both for the calibrated period (Jan. 27 – May 31) and the projected period (Jun. 1 – Aug. 31).',\n",
    "}"
   ]
  },
  {
   "cell_type": "code",
   "execution_count": 3,
   "id": "bulgarian-collect",
   "metadata": {},
   "outputs": [
    {
     "ename": "NameError",
     "evalue": "name 'widgets' is not defined",
     "output_type": "error",
     "traceback": [
      "\u001b[0;31m---------------------------------------------------------------------------\u001b[0m",
      "\u001b[0;31mNameError\u001b[0m                                 Traceback (most recent call last)",
      "\u001b[0;32m<ipython-input-3-f8249425dc02>\u001b[0m in \u001b[0;36m<module>\u001b[0;34m\u001b[0m\n\u001b[1;32m      9\u001b[0m      )\n\u001b[1;32m     10\u001b[0m \u001b[0;34m\u001b[0m\u001b[0m\n\u001b[0;32m---> 11\u001b[0;31m \u001b[0mapp\u001b[0m \u001b[0;34m=\u001b[0m \u001b[0mwidgets\u001b[0m\u001b[0;34m.\u001b[0m\u001b[0mHBox\u001b[0m\u001b[0;34m(\u001b[0m\u001b[0;34m)\u001b[0m\u001b[0;34m\u001b[0m\u001b[0;34m\u001b[0m\u001b[0m\n\u001b[0m\u001b[1;32m     12\u001b[0m \u001b[0mapp\u001b[0m\u001b[0;34m.\u001b[0m\u001b[0mout\u001b[0m \u001b[0;34m=\u001b[0m \u001b[0mwidgets\u001b[0m\u001b[0;34m.\u001b[0m\u001b[0mOutput\u001b[0m\u001b[0;34m(\u001b[0m\u001b[0;34m)\u001b[0m\u001b[0;34m\u001b[0m\u001b[0;34m\u001b[0m\u001b[0m\n\u001b[1;32m     13\u001b[0m app.labels = [ 'None',\n",
      "\u001b[0;31mNameError\u001b[0m: name 'widgets' is not defined"
     ]
    }
   ],
   "source": [
    "# Make the app\n",
    "\n",
    "def make_box_layout():\n",
    "    ''' Custom box layout with a thin border and padding '''\n",
    "    return widgets.Layout(\n",
    "        border='solid 1px #ddd',\n",
    "        margin='0px 10px 10px 0px',\n",
    "        padding='5px 5px 5px 5px'\n",
    "     )\n",
    "    \n",
    "app = widgets.HBox()\n",
    "app.out = widgets.Output()\n",
    "app.labels = [ 'None',\n",
    "               'Fig. 1: Calibration', \n",
    "               'Fig. 2: Dynamics', \n",
    "               'Fig. 3: Theoretical', \n",
    "               'Fig. 4: Suppression', \n",
    "               'Fig. 5: Projections',\n",
    "]\n",
    "app.ind = 0 # Select first element by default\n",
    "app.label = app.labels[app.ind]\n",
    "\n",
    "# Define widgets\n",
    "radio = widgets.RadioButtons(\n",
    "    options=app.labels,\n",
    "    value=app.label,\n",
    "    description='Figure:',\n",
    "    disabled=False,\n",
    ")\n",
    "caption = widgets.HTMLMath(value=captions[0]) # Render as HTML with math support\n",
    "caption.layout.width = '500px' # Fixed width for text box\n",
    "controls = widgets.VBox([radio, caption]) # Construct left panel\n",
    "controls.layout = make_box_layout()\n",
    "out_box = widgets.Box([app.out])\n",
    "app.out.layout = make_box_layout()\n",
    "app.children = [controls, app.out] # Combine panels\n",
    "\n",
    "@app.out.capture()\n",
    "def plot():\n",
    "    ''' Render the graph '''\n",
    "    plot_fig(app.ind)\n",
    "    return\n",
    "\n",
    "def update(key):\n",
    "    ''' Handle radio button selection '''\n",
    "    if isinstance(key.new, int): # After returning an int, it returns an empty dict\n",
    "        app.ind = key.new\n",
    "        app.out.clear_output(wait=True)\n",
    "        caption.value = captions[app.ind]\n",
    "        plot()\n",
    "    return\n",
    "\n",
    "# Handle updates\n",
    "radio.observe(update)\n",
    "\n",
    "# Render app\n",
    "plot()\n",
    "app\n"
   ]
  },
  {
   "cell_type": "markdown",
   "id": "accepting-shape",
   "metadata": {},
   "source": [
    "<div><hr></div>"
   ]
  },
  {
   "cell_type": "markdown",
   "id": "scientific-tourist",
   "metadata": {
    "tags": []
   },
   "source": [
    "<div class=about>\n",
    "    <h3><i>About</i></h3>\n",
    "\n",
    "More information about Covasim is available in the <a href=\"https://docs.covasim.org\">documentation</a>. If you have questions or would like technical assistance, please reach out to us at <a href=\"mailto:covasim@idmod.org\">covasim@idmod.org</a>.\n",
    "<br><br>\n",
    "This site is run via <a href=\"https://jupyter.org\">Jupyter</a> and <a href=\"https://voila.readthedocs.io\">Voilà</a>. Open source code is available on GitHub for <a href=\"https://github.com/amath-idm/controlling-covid19-ttq\">the paper</a> and for <a href=\"https://github.com/amath-idm/controlling-covid19-ttq/blob/main/webapp/Covid-TTQ.ipynb\">this webapp</a>.\n",
    "<br><br>\n",
    "© 1999-2021 Bill & Melinda Gates Foundation. All rights reserved. <a href=\"https://github.com/amath-idm/controlling-covid19-ttq/blob/main/LICENSE\">License</a> | <a href=\"https://www.gatesfoundation.org/Terms-of-Use\">Terms of Use</a> | <a href=\"https://www.gatesfoundation.org/Privacy-and-Cookies-Notice\">Privacy & Cookies Notice</a>\n",
    "</div>"
   ]
  },
  {
   "cell_type": "code",
   "execution_count": null,
   "id": "center-product",
   "metadata": {},
   "outputs": [],
   "source": []
  }
 ],
 "metadata": {
  "kernelspec": {
   "display_name": "Python 3",
   "language": "python",
   "name": "python3"
  },
  "language_info": {
   "codemirror_mode": {
    "name": "ipython",
    "version": 3
   },
   "file_extension": ".py",
   "mimetype": "text/x-python",
   "name": "python",
   "nbconvert_exporter": "python",
   "pygments_lexer": "ipython3",
   "version": "3.8.8"
  }
 },
 "nbformat": 4,
 "nbformat_minor": 5
}
